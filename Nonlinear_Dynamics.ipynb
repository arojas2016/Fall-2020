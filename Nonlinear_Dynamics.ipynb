{
  "nbformat": 4,
  "nbformat_minor": 0,
  "metadata": {
    "colab": {
      "name": "Nonlinear Dynamics.ipynb",
      "provenance": [],
      "authorship_tag": "ABX9TyOr0dI0CbVlvb8xKiBG5/qn",
      "include_colab_link": true
    },
    "kernelspec": {
      "name": "python3",
      "display_name": "Python 3"
    },
    "accelerator": "GPU"
  },
  "cells": [
    {
      "cell_type": "markdown",
      "metadata": {
        "id": "view-in-github",
        "colab_type": "text"
      },
      "source": [
        "<a href=\"https://colab.research.google.com/github/arojas2016/Fall-2020/blob/master/Nonlinear_Dynamics.ipynb\" target=\"_parent\"><img src=\"https://colab.research.google.com/assets/colab-badge.svg\" alt=\"Open In Colab\"/></a>"
      ]
    },
    {
      "cell_type": "markdown",
      "metadata": {
        "id": "qeQ6al-CdVU_",
        "colab_type": "text"
      },
      "source": [
        "# Python Notes- Hello World"
      ]
    },
    {
      "cell_type": "markdown",
      "metadata": {
        "id": "ctSXNtn2dlzF",
        "colab_type": "text"
      },
      "source": [
        "Python Shell is used to test code, not to create a program. \n",
        "\n",
        "To create a program, write your code in a text file and save it with a .py extension. This file is known as a python script."
      ]
    },
    {
      "cell_type": "markdown",
      "metadata": {
        "id": "ouMpJgrgeMPa",
        "colab_type": "text"
      },
      "source": [
        "To create a python script, click on File > New File. This brings up the text editor, which is where you write your code. "
      ]
    },
    {
      "cell_type": "code",
      "metadata": {
        "id": "emwMZrFoEbQX",
        "colab_type": "code",
        "colab": {
          "base_uri": "https://localhost:8080/",
          "height": 34
        },
        "outputId": "b0a301be-c453-4d0e-d6d0-98e2ad48e847"
      },
      "source": [
        "#prints the words \"Hello World\"\n",
        "print (\"Hello world\")"
      ],
      "execution_count": null,
      "outputs": [
        {
          "output_type": "stream",
          "text": [
            "Hello world\n"
          ],
          "name": "stdout"
        }
      ]
    },
    {
      "cell_type": "markdown",
      "metadata": {
        "id": "IBOzq-fVej3A",
        "colab_type": "text"
      },
      "source": [
        "The green line is not a part of the code. It is a comment for others reading the code. \n",
        "\n",
        "To add a comment simply add a # before the comment. "
      ]
    },
    {
      "cell_type": "markdown",
      "metadata": {
        "id": "xTRX2QdZhdKY",
        "colab_type": "text"
      },
      "source": [
        "## Variables\n",
        "Variables are the names given to the data that we wish to store or manipulate. Define variables with a simple name and an assignment sign (=). Any new variables should be given a value. "
      ]
    },
    {
      "cell_type": "code",
      "metadata": {
        "id": "w-ldPDCRh0eH",
        "colab_type": "code",
        "colab": {}
      },
      "source": [
        "#example of defining a variable\n",
        "userage = 0"
      ],
      "execution_count": null,
      "outputs": []
    },
    {
      "cell_type": "markdown",
      "metadata": {
        "id": "2TpnaFuGh9wr",
        "colab_type": "text"
      },
      "source": [
        "Now that this variable has been defined it is stored in your computer (or google drive, in our case) and anytime it is used in the code it recalls its value (0 in our case)."
      ]
    },
    {
      "cell_type": "markdown",
      "metadata": {
        "id": "RXiFOXHFidZh",
        "colab_type": "text"
      },
      "source": [
        "You can define multiple variables at once, as such. "
      ]
    },
    {
      "cell_type": "code",
      "metadata": {
        "id": "tx0iET1Uiiss",
        "colab_type": "code",
        "colab": {}
      },
      "source": [
        "#example of defining multiple variables\n",
        "userage, username = 30, 'Peter'"
      ],
      "execution_count": null,
      "outputs": []
    },
    {
      "cell_type": "markdown",
      "metadata": {
        "id": "X3_XKRBijAIo",
        "colab_type": "text"
      },
      "source": [
        "When naming variables you can only use letters (a-z, A-B), numbers or underscores. However the first character cannot be a number. \n",
        "\n",
        "There are also reserved words that have a meaning in the python script so you cannot use those. Examples are the following\n",
        "*   print\n",
        "*   input\n",
        "*   if\n",
        "*   while\n",
        "\n",
        "Variable names are also case sensitive. \n",
        "\n",
        "There are two common ways of naming variables in Python.\n",
        "1.   Camel case\n",
        "Camel case uses different cases to separate words. For example: ThisIsAVarableName\n",
        "2.   Underscores\n",
        "Underscores uses underscores to separate words. \n",
        "For example: this_is_a_variable\n",
        "\n",
        "\n"
      ]
    },
    {
      "cell_type": "markdown",
      "metadata": {
        "id": "kDHXYK7Ake_F",
        "colab_type": "text"
      },
      "source": [
        "##The Assignment Sign\n",
        "The assignment sign is \"=\", and is very different from mathematics's equal sign. \n",
        "\n",
        "The assignment sign means that whatever is on the right of it is what the left of it is. But it doesn't go both ways. \n",
        "\n",
        "x = y is very different than y = x. "
      ]
    },
    {
      "cell_type": "code",
      "metadata": {
        "id": "FLcIj0HNlPwE",
        "colab_type": "code",
        "colab": {
          "base_uri": "https://localhost:8080/",
          "height": 51
        },
        "outputId": "272df810-b7c3-4da4-eb85-6e3bfa3984b2"
      },
      "source": [
        "x = 5\n",
        "y = 10\n",
        "x = y \n",
        "print (\"x= \", x)\n",
        "print (\"y= \", y)"
      ],
      "execution_count": null,
      "outputs": [
        {
          "output_type": "stream",
          "text": [
            "x=  10\n",
            "y=  10\n"
          ],
          "name": "stdout"
        }
      ]
    },
    {
      "cell_type": "markdown",
      "metadata": {
        "id": "P3YXraEnlnxq",
        "colab_type": "text"
      },
      "source": [
        "See even though in the first line we say that x = 5, it is overridden by the third line of x = y. Y remains unchanged because it is not the variable. it is the value of the variable (x). \n",
        "\n",
        "Now if we change the third line to y = x we should see that y = 5. "
      ]
    },
    {
      "cell_type": "code",
      "metadata": {
        "id": "NTUTnxnFl8u7",
        "colab_type": "code",
        "colab": {
          "base_uri": "https://localhost:8080/",
          "height": 51
        },
        "outputId": "2d3bfc57-b97f-4f40-e95c-6dcae1579cc0"
      },
      "source": [
        "x = 5\n",
        "y = 10\n",
        "y = x \n",
        "print (\"x= \", x)\n",
        "print (\"y= \", y)"
      ],
      "execution_count": null,
      "outputs": [
        {
          "output_type": "stream",
          "text": [
            "x=  5\n",
            "y=  5\n"
          ],
          "name": "stdout"
        }
      ]
    },
    {
      "cell_type": "markdown",
      "metadata": {
        "id": "-2YAeR4AfjWa",
        "colab_type": "text"
      },
      "source": [
        "##Basic Operations\n",
        "Basic operators in python include the normal mathematical operations that you would perform on a variable. \n",
        "\n",
        "Those include\n",
        "*   + (addition)\n",
        "*   - (subtraction)\n",
        "*   * (multiplication)\n",
        "*   / (division)\n",
        "*   // (floor division, which rounds down the answer to the nearest whole number)\n",
        "*   % (modulus, which gives the remainder when 5 is divided by 2)\n",
        "*   ** (exponent\n",
        "\n",
        "\n",
        "\n",
        "\n",
        "\n",
        "\n",
        "\n",
        "\n",
        "\n"
      ]
    },
    {
      "cell_type": "code",
      "metadata": {
        "id": "LWBqynUhgTWJ",
        "colab_type": "code",
        "colab": {
          "base_uri": "https://localhost:8080/",
          "height": 34
        },
        "outputId": "bab57b07-ed96-4980-adf3-31d3f60875c2"
      },
      "source": [
        "x = 5\n",
        "y = 2\n",
        "\n",
        "#addition\n",
        "(x+y)"
      ],
      "execution_count": null,
      "outputs": [
        {
          "output_type": "execute_result",
          "data": {
            "text/plain": [
              "7"
            ]
          },
          "metadata": {
            "tags": []
          },
          "execution_count": 8
        }
      ]
    },
    {
      "cell_type": "code",
      "metadata": {
        "id": "rXH9B_FQhhk4",
        "colab_type": "code",
        "colab": {
          "base_uri": "https://localhost:8080/",
          "height": 34
        },
        "outputId": "d41b41da-5ea3-43c0-b410-f8dd69ec0524"
      },
      "source": [
        "#subtraction\n",
        "(x-y)"
      ],
      "execution_count": null,
      "outputs": [
        {
          "output_type": "execute_result",
          "data": {
            "text/plain": [
              "25"
            ]
          },
          "metadata": {
            "tags": []
          },
          "execution_count": 7
        }
      ]
    },
    {
      "cell_type": "code",
      "metadata": {
        "id": "raMmba21hnIK",
        "colab_type": "code",
        "colab": {
          "base_uri": "https://localhost:8080/",
          "height": 34
        },
        "outputId": "8264d4ae-5104-426c-db57-1c45b220a1e1"
      },
      "source": [
        "#multiplication\n",
        "(x*y)"
      ],
      "execution_count": null,
      "outputs": [
        {
          "output_type": "execute_result",
          "data": {
            "text/plain": [
              "10"
            ]
          },
          "metadata": {
            "tags": []
          },
          "execution_count": 9
        }
      ]
    },
    {
      "cell_type": "code",
      "metadata": {
        "id": "AG_9ufK2hp2M",
        "colab_type": "code",
        "colab": {
          "base_uri": "https://localhost:8080/",
          "height": 34
        },
        "outputId": "fab4ce33-957b-4d2d-eed5-9fe49419b801"
      },
      "source": [
        "#division\n",
        "(x/y)"
      ],
      "execution_count": null,
      "outputs": [
        {
          "output_type": "execute_result",
          "data": {
            "text/plain": [
              "2.5"
            ]
          },
          "metadata": {
            "tags": []
          },
          "execution_count": 13
        }
      ]
    },
    {
      "cell_type": "code",
      "metadata": {
        "id": "AkMHg6YZhr2B",
        "colab_type": "code",
        "colab": {
          "base_uri": "https://localhost:8080/",
          "height": 34
        },
        "outputId": "c79292c1-8f5f-41a0-901b-c4d0004fe221"
      },
      "source": [
        "#floor division\n",
        "(x//y)"
      ],
      "execution_count": null,
      "outputs": [
        {
          "output_type": "execute_result",
          "data": {
            "text/plain": [
              "2"
            ]
          },
          "metadata": {
            "tags": []
          },
          "execution_count": 12
        }
      ]
    },
    {
      "cell_type": "code",
      "metadata": {
        "id": "A1eUXXL5hurV",
        "colab_type": "code",
        "colab": {
          "base_uri": "https://localhost:8080/",
          "height": 34
        },
        "outputId": "c053e109-5a81-4e9d-9fbe-9975c9e20736"
      },
      "source": [
        "#modulus\n",
        "(x%y)"
      ],
      "execution_count": null,
      "outputs": [
        {
          "output_type": "execute_result",
          "data": {
            "text/plain": [
              "1"
            ]
          },
          "metadata": {
            "tags": []
          },
          "execution_count": 10
        }
      ]
    },
    {
      "cell_type": "code",
      "metadata": {
        "id": "zXAY5eOAhw4Y",
        "colab_type": "code",
        "colab": {
          "base_uri": "https://localhost:8080/",
          "height": 34
        },
        "outputId": "72a82a9a-791d-413a-cf7f-340d2fb5cc82"
      },
      "source": [
        "#exponent\n",
        "(x**y)"
      ],
      "execution_count": null,
      "outputs": [
        {
          "output_type": "execute_result",
          "data": {
            "text/plain": [
              "25"
            ]
          },
          "metadata": {
            "tags": []
          },
          "execution_count": 11
        }
      ]
    },
    {
      "cell_type": "markdown",
      "metadata": {
        "id": "FQLt8RvyiI-R",
        "colab_type": "text"
      },
      "source": [
        "##More Assignment Operators\n",
        "\n",
        "Besides the = sign there is also a shorthand method of doing simple calculations with a variable and one basic operation. \n",
        "\n",
        "Suppose you have a variable x that has an initial value of 10. If you want o increment x by 2 you would write\n",
        "\n",
        "x = x + 2\n",
        "\n",
        "which is 12, and that's what the output will be. \n",
        "\n",
        "But you can also write\n",
        "\n",
        "x += 2\n",
        "\n",
        "for a shorthand operator. \n",
        "\n",
        "This works for all the operators: \"+=\", \"-+\", \"*=\", \"/=\", \"//+\", \"%+\", \"**=\""
      ]
    },
    {
      "cell_type": "markdown",
      "metadata": {
        "id": "p9A7aDVajO39",
        "colab_type": "text"
      },
      "source": [
        "##Some Important Definitions\n",
        "\n",
        "*   Integers: numbers with no decimal parts\n",
        "\n",
        "*   Float: numbers that have decimal parts\n",
        "\n",
        "*   String: text, strings will always appear in red (in colab, they will appear green in python)\n",
        "\n",
        "To declare string in python you can either use 'single quotes' or \"double quotes\"\n",
        "\n",
        "\n",
        "\n",
        "\n",
        "\n",
        "\n",
        "\n",
        "\n",
        "\n"
      ]
    },
    {
      "cell_type": "code",
      "metadata": {
        "id": "8Jw36AsNkMw1",
        "colab_type": "code",
        "colab": {}
      },
      "source": [
        "#example of declaring a string\n",
        "user_name = 'Peter'\n",
        "user_spouse_name = 'Janet'\n",
        "user_age = '30'"
      ],
      "execution_count": null,
      "outputs": []
    },
    {
      "cell_type": "markdown",
      "metadata": {
        "id": "TXLXEonIkasX",
        "colab_type": "text"
      },
      "source": [
        "Notice how for the age we still use the quotes, otherwise it would be treated as an integer. \n",
        "\n",
        "If you want to combine multiple strings just use the \"+\" sign. "
      ]
    },
    {
      "cell_type": "code",
      "metadata": {
        "id": "0BMZ_HnzksEZ",
        "colab_type": "code",
        "colab": {
          "base_uri": "https://localhost:8080/",
          "height": 35
        },
        "outputId": "a0e44601-8408-4c68-df4a-8f4c95a2a150"
      },
      "source": [
        "#example of adding strings\n",
        "\"Peter\" + \"Lee\""
      ],
      "execution_count": null,
      "outputs": [
        {
          "output_type": "execute_result",
          "data": {
            "application/vnd.google.colaboratory.intrinsic+json": {
              "type": "string"
            },
            "text/plain": [
              "'PeterLee'"
            ]
          },
          "metadata": {
            "tags": []
          },
          "execution_count": 14
        }
      ]
    },
    {
      "cell_type": "markdown",
      "metadata": {
        "id": "BlerRgWRk4z5",
        "colab_type": "text"
      },
      "source": [
        "##String Functions\n",
        "\n",
        "Python includes a number of built in string functions that are used to manipulate strings and perform a task. (For more detail see Chapter 7)\n",
        "\n",
        "An example of a function available in Python is the upper() method for  strings. This is used to capitalize all the letters in a string. "
      ]
    },
    {
      "cell_type": "code",
      "metadata": {
        "id": "FOnwaNRPlTFa",
        "colab_type": "code",
        "colab": {
          "base_uri": "https://localhost:8080/",
          "height": 35
        },
        "outputId": "4bc74878-a187-4eb4-b100-ad0dfba1eced"
      },
      "source": [
        "#example of capitalizing strings\n",
        "'Peter'.upper()"
      ],
      "execution_count": null,
      "outputs": [
        {
          "output_type": "execute_result",
          "data": {
            "application/vnd.google.colaboratory.intrinsic+json": {
              "type": "string"
            },
            "text/plain": [
              "'PETER'"
            ]
          },
          "metadata": {
            "tags": []
          },
          "execution_count": 15
        }
      ]
    },
    {
      "cell_type": "markdown",
      "metadata": {
        "id": "Isvwt0ewlcD6",
        "colab_type": "text"
      },
      "source": [
        "To see more examples of built-in string functions in Python, see Appendix A.\n",
        "\n",
        "One of these methods for formatting strings is using the modulus operator (%). \n",
        "\n",
        "Syntax is very important when using the % operator. "
      ]
    },
    {
      "cell_type": "code",
      "metadata": {
        "id": "anZvt_otmZf5",
        "colab_type": "code",
        "colab": {
          "base_uri": "https://localhost:8080/",
          "height": 34
        },
        "outputId": "577a23d3-8018-4f6a-c9e9-78aee2d7069e"
      },
      "source": [
        "#example of formatting strings with %\n",
        "brand = 'Apple'\n",
        "exchange_rate = 1.235235245\n",
        "message = 'The price of this %s laptop is %d USD and the exchange rate is %4.2f USD to 1 EUR' %(brand, 1299, exchange_rate)\n",
        "print (message)"
      ],
      "execution_count": null,
      "outputs": [
        {
          "output_type": "stream",
          "text": [
            "The price of this Apple laptop is 1299 USD and the exchange rate is 1.24 USD to 1 EUR\n"
          ],
          "name": "stdout"
        }
      ]
    },
    {
      "cell_type": "markdown",
      "metadata": {
        "id": "dQQzdefQpoV7",
        "colab_type": "text"
      },
      "source": [
        "The % acts as a placeholder for whatever you add to it. \n",
        "But if you look at the code carefully you'll notice letters and numbers after %. This is to format it. \n",
        "\n",
        "%s is a formatter used to represend a string (apple in this case)\n",
        "\n",
        "%d is the formatter used to represent an integer  (1299). \n",
        "\n",
        "If you want to add spaces before an integer you add a number between % and d to indicate the desired length of the entire string."
      ]
    },
    {
      "cell_type": "code",
      "metadata": {
        "id": "dxfOEiCuqe1b",
        "colab_type": "code",
        "colab": {
          "base_uri": "https://localhost:8080/",
          "height": 34
        },
        "outputId": "dd7f1e37-26e7-4be3-d436-4a67cbd4f733"
      },
      "source": [
        "example_a = '%5d' %(123)\n",
        "print (example_a)\n",
        "#the character count of the outcome is 5, which is the number between % and d"
      ],
      "execution_count": null,
      "outputs": [
        {
          "output_type": "stream",
          "text": [
            "  123\n"
          ],
          "name": "stdout"
        }
      ]
    },
    {
      "cell_type": "markdown",
      "metadata": {
        "id": "xVludlXFq_JF",
        "colab_type": "text"
      },
      "source": [
        "%f is the formatter used to format floats (numbers with decimals). \n",
        "\n",
        "In our example we had \"%4.2f\", where 4 is the total number of characters and 2 is the decimal places. "
      ]
    },
    {
      "cell_type": "markdown",
      "metadata": {
        "id": "LdqrehQzrs1A",
        "colab_type": "text"
      },
      "source": [
        "Another way to format strings is to use parenthesis {}.\n"
      ]
    },
    {
      "cell_type": "code",
      "metadata": {
        "id": "f5CpS_Klr3Fa",
        "colab_type": "code",
        "colab": {
          "base_uri": "https://localhost:8080/",
          "height": 34
        },
        "outputId": "dd34bfa4-f020-4aca-8472-65534f99dc50"
      },
      "source": [
        "message = 'The price of this {0:s} laptop is {1:d} USD and the exchange rate is {2:4.2f} USD to 1 EUR'.format('Apple',1299,1.235235245)\n",
        "print (message)"
      ],
      "execution_count": null,
      "outputs": [
        {
          "output_type": "stream",
          "text": [
            "The price of this Apple laptop is 1299 USD and the exchange rate is 1.24 USD to 1 EUR\n"
          ],
          "name": "stdout"
        }
      ]
    },
    {
      "cell_type": "markdown",
      "metadata": {
        "id": "ga5yitrCsUdY",
        "colab_type": "text"
      },
      "source": [
        "Here the parenthesis are used to format the string. Inside the parenthesis the first number is used to indicate the position of the substitute. \n",
        "\n",
        "Apple has the 0 position\n",
        "*positions always start at 0!\n",
        "\n",
        "1299 has the 1 position\n",
        "\n",
        "1.235235245 has the 2 position. \n",
        "\n",
        "The rest of the formatting is the same as the % formatting, where s refers to string, d refers to integers, and f refers to floats. \n",
        "\n",
        "Be sure to not use any spaces within the parenthesis.\n",
        "\n",
        "However, formatting is not required with parenthesis. You can simply put {} and it will just go by position. "
      ]
    },
    {
      "cell_type": "code",
      "metadata": {
        "id": "TCRI4a1DtZm_",
        "colab_type": "code",
        "colab": {
          "base_uri": "https://localhost:8080/",
          "height": 34
        },
        "outputId": "fbe9269f-7e98-435e-8614-a751a6738c66"
      },
      "source": [
        "message = 'The price of this {} laptop is {} USD and the exchange rate is {} USD to 1 EUR'.format('Apple',1299, 1.235235245)\n",
        "print (message)"
      ],
      "execution_count": null,
      "outputs": [
        {
          "output_type": "stream",
          "text": [
            "The price of this Apple laptop is 1299 USD and the exchange rate is 1.235235245 USD to 1 EUR\n"
          ],
          "name": "stdout"
        }
      ]
    },
    {
      "cell_type": "markdown",
      "metadata": {
        "id": "eRBddoWaubz5",
        "colab_type": "text"
      },
      "source": [
        "##Type Casting\n",
        "\n",
        "Sometimes it's necessary to convert one data type to another, say from an integer to a string. \n",
        "\n",
        "This is called \"Type Casting\"\n",
        "\n",
        "There are three built-in functions in python that allow us to do type casting. These are the int(), float (), and str() functions. \n",
        "\n"
      ]
    },
    {
      "cell_type": "code",
      "metadata": {
        "id": "hJ0RG9Rku9Up",
        "colab_type": "code",
        "colab": {
          "base_uri": "https://localhost:8080/",
          "height": 34
        },
        "outputId": "d6b7ad5f-6abb-4186-a966-4caee0cbd1da"
      },
      "source": [
        "#int() is used to change floats and strings into integers\n",
        "int(4.22321)\n",
        "int(\"4\")"
      ],
      "execution_count": null,
      "outputs": [
        {
          "output_type": "execute_result",
          "data": {
            "text/plain": [
              "4"
            ]
          },
          "metadata": {
            "tags": []
          },
          "execution_count": 30
        }
      ]
    },
    {
      "cell_type": "code",
      "metadata": {
        "id": "mKUoYTqdvok2",
        "colab_type": "code",
        "colab": {
          "base_uri": "https://localhost:8080/",
          "height": 34
        },
        "outputId": "ac6992f1-a835-4ad5-a85a-4f693b064566"
      },
      "source": [
        "#float() is used to change integers and strings into floats\n",
        "float(2)\n",
        "float(\"2\")"
      ],
      "execution_count": null,
      "outputs": [
        {
          "output_type": "execute_result",
          "data": {
            "text/plain": [
              "2.0"
            ]
          },
          "metadata": {
            "tags": []
          },
          "execution_count": 31
        }
      ]
    },
    {
      "cell_type": "code",
      "metadata": {
        "id": "LXDTdNF8vrt8",
        "colab_type": "code",
        "colab": {
          "base_uri": "https://localhost:8080/",
          "height": 35
        },
        "outputId": "8bf1eef0-9fb6-4c22-8c8a-86e2376a0f79"
      },
      "source": [
        "#str() is used to change integers and floats into strings\n",
        "str(2)\n",
        "str(2.1)"
      ],
      "execution_count": null,
      "outputs": [
        {
          "output_type": "execute_result",
          "data": {
            "application/vnd.google.colaboratory.intrinsic+json": {
              "type": "string"
            },
            "text/plain": [
              "'2.1'"
            ]
          },
          "metadata": {
            "tags": []
          },
          "execution_count": 32
        }
      ]
    },
    {
      "cell_type": "markdown",
      "metadata": {
        "id": "uezzt6-MwNa2",
        "colab_type": "text"
      },
      "source": [
        "##List\n",
        "\n",
        "Lists refer to a collection of data that are normally related. \n",
        "\n",
        "For example if you wanted to store the age of 5 users you can use a list instead of writing out the code for each one. \n",
        "\n",
        "Define a list by writing the list's values in brackets separated by commas. "
      ]
    },
    {
      "cell_type": "code",
      "metadata": {
        "id": "0e_7-e95wqox",
        "colab_type": "code",
        "colab": {
          "base_uri": "https://localhost:8080/",
          "height": 34
        },
        "outputId": "5c5e1f60-feba-4a0c-81ed-75c2b017c70d"
      },
      "source": [
        "#example of declaring a list\n",
        "user_age = [21, 22, 23, 24, 25]\n",
        "print(user_age)"
      ],
      "execution_count": null,
      "outputs": [
        {
          "output_type": "stream",
          "text": [
            "[21, 22, 23, 24, 25]\n"
          ],
          "name": "stdout"
        }
      ]
    },
    {
      "cell_type": "markdown",
      "metadata": {
        "id": "f4qTvAt_TQVe",
        "colab_type": "text"
      },
      "source": [
        "You can also declare a list without assigning any initial values to it. \n",
        "\n",
        "ex. list_name = []\n",
        "\n",
        "This is an empty list that you can append items to using \".append()\"\n",
        "\n",
        "Individual items in the list can be accessed via their position.*Recall positions always begin at 0. This is common for most programing softwares."
      ]
    },
    {
      "cell_type": "code",
      "metadata": {
        "id": "Plf6AzkFT6v5",
        "colab_type": "code",
        "colab": {
          "base_uri": "https://localhost:8080/",
          "height": 34
        },
        "outputId": "6f9e730d-44be-45af-ecb9-26cee9a9c036"
      },
      "source": [
        "#example of accessing an individual in a list\n",
        "user_age = [21, 22, 23, 24, 25]\n",
        "print(user_age[0])"
      ],
      "execution_count": null,
      "outputs": [
        {
          "output_type": "stream",
          "text": [
            "21\n"
          ],
          "name": "stdout"
        }
      ]
    },
    {
      "cell_type": "markdown",
      "metadata": {
        "id": "-ZLnNj8eUiRD",
        "colab_type": "text"
      },
      "source": [
        "You can also access the values of the list from the back by using negative numbers."
      ]
    },
    {
      "cell_type": "code",
      "metadata": {
        "id": "Sjfa0ZbnUrAM",
        "colab_type": "code",
        "colab": {
          "base_uri": "https://localhost:8080/",
          "height": 51
        },
        "outputId": "bc7a35e1-0765-4c17-8efe-fb7d6ee49575"
      },
      "source": [
        "#example of accessing the last individual from a list\n",
        "user_age = [21, 22, 23, 24, 25]\n",
        "print(user_age[-1])\n",
        "print(user_age[-2])"
      ],
      "execution_count": null,
      "outputs": [
        {
          "output_type": "stream",
          "text": [
            "25\n",
            "24\n"
          ],
          "name": "stdout"
        }
      ]
    },
    {
      "cell_type": "markdown",
      "metadata": {
        "id": "rEA9byVJU4pE",
        "colab_type": "text"
      },
      "source": [
        "You can also assign a list, or part of it to a variable. "
      ]
    },
    {
      "cell_type": "code",
      "metadata": {
        "id": "XGHJk4DxVFHR",
        "colab_type": "code",
        "colab": {
          "base_uri": "https://localhost:8080/",
          "height": 51
        },
        "outputId": "1fdc9534-c4e3-4bb8-8e5b-1e1f8655a490"
      },
      "source": [
        "#assigning a list (user_age) to a variable (user_age2)\n",
        "user_age2 = user_age\n",
        "print(user_age2)\n",
        "\n",
        "#assigning part of a list to a variable\n",
        "user_age3 = user_age[2:4]\n",
        "print(user_age3)"
      ],
      "execution_count": null,
      "outputs": [
        {
          "output_type": "stream",
          "text": [
            "[21, 22, 23, 24, 25]\n",
            "[23, 24]\n"
          ],
          "name": "stdout"
        }
      ]
    },
    {
      "cell_type": "markdown",
      "metadata": {
        "id": "HA4RQLtwVpPg",
        "colab_type": "text"
      },
      "source": [
        "The notation \"2:4\" is known as a slice. This notation is very particular in that it includes the position of the first number (2) but excludes the position of the last number (4). \n",
        "\n",
        "That's why user_age3 = [23, 24] which are positions 2 and 3 and not user_age3 = [23, 24, 25] which are postitions 2, 3 and 4. \n",
        "\n",
        "Slice notation can include a third number known as a \"stepper\". The stepper can make the sublist skip numbers equal to the stepper. "
      ]
    },
    {
      "cell_type": "code",
      "metadata": {
        "id": "aRVePYVUWmWm",
        "colab_type": "code",
        "colab": {
          "base_uri": "https://localhost:8080/",
          "height": 34
        },
        "outputId": "01fedb2b-12fc-49c0-cda1-026aa528b92d"
      },
      "source": [
        "#example of a stepper\n",
        "user_age4 = user_age[1:5:2]\n",
        "print(user_age4)"
      ],
      "execution_count": null,
      "outputs": [
        {
          "output_type": "stream",
          "text": [
            "[22, 24]\n"
          ],
          "name": "stdout"
        }
      ]
    },
    {
      "cell_type": "markdown",
      "metadata": {
        "id": "58-7XR9iYSRs",
        "colab_type": "text"
      },
      "source": [
        "Here 1 is telling us the position to begin the slice and 5 is the position to end the slice. \n",
        "\n",
        "2 is the stepper, or the amount to skip, therefor we get [22, 24] which is position 1 and 3 respectively. \n",
        "\n",
        "Slice notations do have defaults. If you forgoe numbers in the slice the first digit will be 0 and the last digit will be the size of the list (5 in our example). \n",
        "\n",
        "You can also modify items in a list. "
      ]
    },
    {
      "cell_type": "code",
      "metadata": {
        "id": "a-r78nWNZRG0",
        "colab_type": "code",
        "colab": {
          "base_uri": "https://localhost:8080/",
          "height": 34
        },
        "outputId": "b6b95c4d-3082-44bb-dca0-97372dc0e7c6"
      },
      "source": [
        "#example of modifying a list\n",
        "user_age[1] = 5\n",
        "print(user_age)"
      ],
      "execution_count": null,
      "outputs": [
        {
          "output_type": "stream",
          "text": [
            "[21, 5, 23, 24, 25]\n"
          ],
          "name": "stdout"
        }
      ]
    },
    {
      "cell_type": "markdown",
      "metadata": {
        "id": "_l9W6fnoZtno",
        "colab_type": "text"
      },
      "source": [
        "You're also able to add items to a list using \".append()\"\n",
        "\n",
        "This automatically adds whatever you append to the end of the list. "
      ]
    },
    {
      "cell_type": "code",
      "metadata": {
        "id": "abG9gnw8Z50U",
        "colab_type": "code",
        "colab": {
          "base_uri": "https://localhost:8080/",
          "height": 34
        },
        "outputId": "48c84ad8-1081-450d-ea88-4301bc435f2e"
      },
      "source": [
        "#example of adding items to a list\n",
        "user_age.append(99)\n",
        "print (user_age)"
      ],
      "execution_count": null,
      "outputs": [
        {
          "output_type": "stream",
          "text": [
            "[21, 5, 23, 24, 25, 99]\n"
          ],
          "name": "stdout"
        }
      ]
    },
    {
      "cell_type": "markdown",
      "metadata": {
        "id": "bl2g1eA2aH6M",
        "colab_type": "text"
      },
      "source": [
        "You can also remove items from a list using \"del listname[position of item you wish to delete]\""
      ]
    },
    {
      "cell_type": "code",
      "metadata": {
        "id": "5A4dqvvDaW5v",
        "colab_type": "code",
        "colab": {
          "base_uri": "https://localhost:8080/",
          "height": 34
        },
        "outputId": "a8803adb-9526-4f7a-d7ef-b38bad64d173"
      },
      "source": [
        "#example of deleteing items from a list\n",
        "del user_age[2]\n",
        "print(user_age)"
      ],
      "execution_count": null,
      "outputs": [
        {
          "output_type": "stream",
          "text": [
            "[21, 5, 24, 25, 99]\n"
          ],
          "name": "stdout"
        }
      ]
    },
    {
      "cell_type": "markdown",
      "metadata": {
        "id": "oaKh1XGFb6cC",
        "colab_type": "text"
      },
      "source": [
        "Notice that \"23\", the number in position 2 is deleted"
      ]
    },
    {
      "cell_type": "markdown",
      "metadata": {
        "id": "NWu-dVSecy0o",
        "colab_type": "text"
      },
      "source": [
        "Appreciate the commands possible to manipulate a list below. "
      ]
    },
    {
      "cell_type": "code",
      "metadata": {
        "id": "Rky7jpABa4HS",
        "colab_type": "code",
        "colab": {
          "base_uri": "https://localhost:8080/",
          "height": 34
        },
        "outputId": "a3416cad-2c2d-4d7f-8506-fe7da252b496"
      },
      "source": [
        "myList = [1, 2, 3, 4, 5, \"Hello\"]\n",
        "print(myList)"
      ],
      "execution_count": null,
      "outputs": [
        {
          "output_type": "stream",
          "text": [
            "[1, 2, 3, 4, 5, 'Hello']\n"
          ],
          "name": "stdout"
        }
      ]
    },
    {
      "cell_type": "code",
      "metadata": {
        "id": "zt-q8jAFcDKf",
        "colab_type": "code",
        "colab": {
          "base_uri": "https://localhost:8080/",
          "height": 34
        },
        "outputId": "fc32a785-0179-4476-cdf9-d95731f9ffc7"
      },
      "source": [
        "print(myList[2])"
      ],
      "execution_count": null,
      "outputs": [
        {
          "output_type": "stream",
          "text": [
            "3\n"
          ],
          "name": "stdout"
        }
      ]
    },
    {
      "cell_type": "code",
      "metadata": {
        "id": "CBJMN5eEcHxv",
        "colab_type": "code",
        "colab": {
          "base_uri": "https://localhost:8080/",
          "height": 34
        },
        "outputId": "c719d866-8e47-4d5c-de5f-ae092a3b3700"
      },
      "source": [
        "print(myList[-1])"
      ],
      "execution_count": null,
      "outputs": [
        {
          "output_type": "stream",
          "text": [
            "Hello\n"
          ],
          "name": "stdout"
        }
      ]
    },
    {
      "cell_type": "code",
      "metadata": {
        "id": "FAn-VhffcM83",
        "colab_type": "code",
        "colab": {
          "base_uri": "https://localhost:8080/",
          "height": 34
        },
        "outputId": "af29c35d-9c42-4d95-ce06-b2a464d8db7c"
      },
      "source": [
        "myList2 = myList[1:5]\n",
        "print(myList2)"
      ],
      "execution_count": null,
      "outputs": [
        {
          "output_type": "stream",
          "text": [
            "[2, 3, 4, 5]\n"
          ],
          "name": "stdout"
        }
      ]
    },
    {
      "cell_type": "code",
      "metadata": {
        "id": "K579pWQQccwR",
        "colab_type": "code",
        "colab": {
          "base_uri": "https://localhost:8080/",
          "height": 34
        },
        "outputId": "7a09b179-f493-4902-b6da-4834f9ebc818"
      },
      "source": [
        "myList[1] = 20\n",
        "print(myList)"
      ],
      "execution_count": null,
      "outputs": [
        {
          "output_type": "stream",
          "text": [
            "[1, 20, 3, 4, 5, 'Hello']\n"
          ],
          "name": "stdout"
        }
      ]
    },
    {
      "cell_type": "code",
      "metadata": {
        "id": "IjY3a1UHcit9",
        "colab_type": "code",
        "colab": {
          "base_uri": "https://localhost:8080/",
          "height": 34
        },
        "outputId": "4c066aa1-5a63-4bf2-c684-6bb4b0968833"
      },
      "source": [
        "myList.append(\"How are you\")\n",
        "print(myList)"
      ],
      "execution_count": null,
      "outputs": [
        {
          "output_type": "stream",
          "text": [
            "[1, 20, 3, 4, 5, 'Hello', 'How are you']\n"
          ],
          "name": "stdout"
        }
      ]
    },
    {
      "cell_type": "code",
      "metadata": {
        "id": "N8DEza41cp1d",
        "colab_type": "code",
        "colab": {
          "base_uri": "https://localhost:8080/",
          "height": 34
        },
        "outputId": "b5e4f867-45dd-4836-f837-5c012d6708ac"
      },
      "source": [
        "del myList[5]\n",
        "print(myList)"
      ],
      "execution_count": null,
      "outputs": [
        {
          "output_type": "stream",
          "text": [
            "[1, 20, 3, 4, 5, 'How are you']\n"
          ],
          "name": "stdout"
        }
      ]
    },
    {
      "cell_type": "markdown",
      "metadata": {
        "id": "z7hTlBrec-6V",
        "colab_type": "text"
      },
      "source": [
        "##Tuple\n",
        "Tuples are like lists, but you cannot modify their values. The values assigned at the intial programming will stay that way throughout the entire program. \n",
        "\n",
        "This is useful for storing the names or values of unchanging things like the months of the year, or the seasons. \n",
        "\n",
        "Declare tuples using parenthesis instead of brackets, however you still need to use commas to separate the items and quotes to define strings."
      ]
    },
    {
      "cell_type": "code",
      "metadata": {
        "id": "JJuDJxWidYQW",
        "colab_type": "code",
        "colab": {
          "base_uri": "https://localhost:8080/",
          "height": 68
        },
        "outputId": "30d61397-c251-41c4-ebaf-e4b52bea9066"
      },
      "source": [
        "months_of_the_year = (\"January\", \"February\", \"March\", \"April\", \"May\", \"June\", \"July\", \"August\", \"September\", \"October\", \"November\", \"December\")\n",
        "print(months_of_the_year)\n",
        "print(months_of_the_year[9])\n",
        "print(months_of_the_year[-3])"
      ],
      "execution_count": null,
      "outputs": [
        {
          "output_type": "stream",
          "text": [
            "('January', 'February', 'March', 'April', 'May', 'June', 'July', 'August', 'September', 'October', 'November', 'December')\n",
            "October\n",
            "October\n"
          ],
          "name": "stdout"
        }
      ]
    },
    {
      "cell_type": "markdown",
      "metadata": {
        "id": "OJAdAf5weYK8",
        "colab_type": "text"
      },
      "source": [
        "##Dictionary\n",
        "Dictionary is used to store a collection of related data pairs. \n",
        "Declare a dictionary using curly brackets \"{}\" and colons \":\""
      ]
    },
    {
      "cell_type": "code",
      "metadata": {
        "id": "cdvSlNB_e2hX",
        "colab_type": "code",
        "colab": {
          "base_uri": "https://localhost:8080/",
          "height": 34
        },
        "outputId": "6f76f2ea-71d0-42e6-d74d-1247d3b3e6e1"
      },
      "source": [
        "#example of declaring a dictionary\n",
        "my_dictionary = {\"Peter\":38, \"John\":51}\n",
        "print(my_dictionary)"
      ],
      "execution_count": null,
      "outputs": [
        {
          "output_type": "stream",
          "text": [
            "{'Peter': 38, 'John': 51}\n"
          ],
          "name": "stdout"
        }
      ]
    },
    {
      "cell_type": "markdown",
      "metadata": {
        "id": "XS1sRb-7gPev",
        "colab_type": "text"
      },
      "source": [
        "You can also declare a dictionary by defining a variable and adding \"dict\". In this method you use parenthesis instead of curly brackets, assignment signs instead of colons, and you don't use quotes at all. "
      ]
    },
    {
      "cell_type": "code",
      "metadata": {
        "id": "LS_6OhsYgOWN",
        "colab_type": "code",
        "colab": {
          "base_uri": "https://localhost:8080/",
          "height": 34
        },
        "outputId": "02a99d20-ddc1-4be9-d1e1-c4e205ebddc9"
      },
      "source": [
        "#2nd example of declaring a dictionary\n",
        "user_name_and_age = dict(Peter=38, John=51, Alex=13, Alvin=\"Not Avaiable\")\n",
        "print(user_name_and_age)"
      ],
      "execution_count": null,
      "outputs": [
        {
          "output_type": "stream",
          "text": [
            "{'Peter': 38, 'John': 51, 'Alex': 13, 'Alvin': 'Not Avaiable'}\n"
          ],
          "name": "stdout"
        }
      ]
    },
    {
      "cell_type": "markdown",
      "metadata": {
        "id": "dTBXmjcPfBS3",
        "colab_type": "text"
      },
      "source": [
        "You cannot declare a dictionary with two identical items on the left of the colon. It doesn't work."
      ]
    },
    {
      "cell_type": "code",
      "metadata": {
        "id": "YsVTgQ0_fJXD",
        "colab_type": "code",
        "colab": {
          "base_uri": "https://localhost:8080/",
          "height": 34
        },
        "outputId": "ba414acd-00f0-4eb3-9ead-53d6b33f9fa6"
      },
      "source": [
        "my_dictionary = {\"Peter\":38, \"Peter\":51}\n",
        "print(my_dictionary)"
      ],
      "execution_count": null,
      "outputs": [
        {
          "output_type": "stream",
          "text": [
            "{'Peter': 51}\n"
          ],
          "name": "stdout"
        }
      ]
    },
    {
      "cell_type": "markdown",
      "metadata": {
        "id": "wdWqiYMohnhJ",
        "colab_type": "text"
      },
      "source": [
        "To access items in the dictionary do the following:"
      ]
    },
    {
      "cell_type": "code",
      "metadata": {
        "id": "lqa47LC3hsbm",
        "colab_type": "code",
        "colab": {
          "base_uri": "https://localhost:8080/",
          "height": 34
        },
        "outputId": "f2329238-81f9-402c-cb78-da23fe4641bf"
      },
      "source": [
        "#example of accessing dictionary items\n",
        "print(user_name_and_age[\"John\"])"
      ],
      "execution_count": null,
      "outputs": [
        {
          "output_type": "stream",
          "text": [
            "51\n"
          ],
          "name": "stdout"
        }
      ]
    },
    {
      "cell_type": "markdown",
      "metadata": {
        "id": "PY29p6tGh3aQ",
        "colab_type": "text"
      },
      "source": [
        "You're also able to modify dictionary items."
      ]
    },
    {
      "cell_type": "code",
      "metadata": {
        "id": "Xb1S78Bbh8Yp",
        "colab_type": "code",
        "colab": {
          "base_uri": "https://localhost:8080/",
          "height": 34
        },
        "outputId": "f5795a92-dcbc-4154-d48e-f356b3f7a4cf"
      },
      "source": [
        "#example of modifying dictionary items\n",
        "user_name_and_age[\"John\"] = 21\n",
        "print(user_name_and_age[\"John\"])"
      ],
      "execution_count": null,
      "outputs": [
        {
          "output_type": "stream",
          "text": [
            "21\n"
          ],
          "name": "stdout"
        }
      ]
    },
    {
      "cell_type": "markdown",
      "metadata": {
        "id": "gyILT7NbiNX8",
        "colab_type": "text"
      },
      "source": [
        "You can also declare an empty dictionary by just writing dictionary_name = {}\n",
        "\n",
        "You can also add things to the dictionary by doing the following:"
      ]
    },
    {
      "cell_type": "code",
      "metadata": {
        "id": "Ut60a7tGiigC",
        "colab_type": "code",
        "colab": {
          "base_uri": "https://localhost:8080/",
          "height": 34
        },
        "outputId": "fcf4b69c-2cb2-411e-dff0-eec6aef7b25b"
      },
      "source": [
        "#adding items to a dictionary\n",
        "user_name_and_age[\"Joe\"] = 40\n",
        "print (user_name_and_age)"
      ],
      "execution_count": null,
      "outputs": [
        {
          "output_type": "stream",
          "text": [
            "{'Peter': 38, 'John': 21, 'Alex': 13, 'Alvin': 'Not Avaiable', 'Joe': 40}\n"
          ],
          "name": "stdout"
        }
      ]
    },
    {
      "cell_type": "markdown",
      "metadata": {
        "id": "4RNnvfCWi9e-",
        "colab_type": "text"
      },
      "source": [
        "You can also remove items from the dictionary by using the del method. "
      ]
    },
    {
      "cell_type": "code",
      "metadata": {
        "id": "irVQWcdQjX8J",
        "colab_type": "code",
        "colab": {
          "base_uri": "https://localhost:8080/",
          "height": 34
        },
        "outputId": "463d17ff-4e84-45c9-da86-1378e6654f89"
      },
      "source": [
        "#example of removing items in the dictionary\n",
        "del user_name_and_age[\"Alex\"]\n",
        "print(user_name_and_age)"
      ],
      "execution_count": null,
      "outputs": [
        {
          "output_type": "stream",
          "text": [
            "{'Peter': 38, 'John': 21, 'Alvin': 'Not Avaiable', 'Joe': 40}\n"
          ],
          "name": "stdout"
        }
      ]
    },
    {
      "cell_type": "markdown",
      "metadata": {
        "id": "r67I8f89jqVL",
        "colab_type": "text"
      },
      "source": [
        "#Making Your Program Interactive\n"
      ]
    },
    {
      "cell_type": "code",
      "metadata": {
        "id": "wFBpVnn6j6jb",
        "colab_type": "code",
        "colab": {
          "base_uri": "https://localhost:8080/",
          "height": 68
        },
        "outputId": "4140aaf8-ee44-4b13-897f-9c23b46b7b80"
      },
      "source": [
        "#example of an input\n",
        "my_name = input(\"Please enter your name: \")\n",
        "my_age = input(\"What about your age: \")\n",
        "print(\"Hello World, my name is\", my_name, \"and I am\", my_age, \"years old.\")"
      ],
      "execution_count": null,
      "outputs": [
        {
          "output_type": "stream",
          "text": [
            "Please enter your name: Amanda\n",
            "What about your age: 24\n",
            "Hello World, my name is Amanda and I am 24 years old.\n"
          ],
          "name": "stdout"
        }
      ]
    },
    {
      "cell_type": "markdown",
      "metadata": {
        "id": "Dq6GLVaasYsm",
        "colab_type": "text"
      },
      "source": [
        "##Input\n",
        "Input is a function of code that allows one to enter in a string for the variable of whatever it's named for. \n",
        "\n",
        "This is slightly different in Python 2 and 3. If you want the input to be a string you have to use the raw_input() function instead of just input(). \n",
        "\n",
        "##Print\n",
        "The print function is the code that displays it's information to users. You can use 0 to x parameters, but they must be separated by commas. \n",
        "\n",
        "You can also separate the different parameters using the % formatting we learned earlier."
      ]
    },
    {
      "cell_type": "code",
      "metadata": {
        "id": "yPsEDOt1t-iO",
        "colab_type": "code",
        "colab": {
          "base_uri": "https://localhost:8080/",
          "height": 34
        },
        "outputId": "d2ae5556-022f-472f-b5af-0c566c701eee"
      },
      "source": [
        "#example of print using %\n",
        "print(\"Hello World, my name is %s and I am %s years old.\" %(my_name, my_age))"
      ],
      "execution_count": null,
      "outputs": [
        {
          "output_type": "stream",
          "text": [
            "Hello World, my name is Amanda and I am 24 years old.\n"
          ],
          "name": "stdout"
        }
      ]
    },
    {
      "cell_type": "markdown",
      "metadata": {
        "id": "Y1HGdFkBuQCA",
        "colab_type": "text"
      },
      "source": [
        "Print is also a function that is different in Python 2 and 3. In Python 2 and 3 you just write \"print\" without the parenthesis. "
      ]
    },
    {
      "cell_type": "markdown",
      "metadata": {
        "id": "pV2aWcP4uZE_",
        "colab_type": "text"
      },
      "source": [
        "##Triple Quotes\n",
        "You can use triple quotes to display a long message over multiply lines. "
      ]
    },
    {
      "cell_type": "code",
      "metadata": {
        "id": "_xZa_Ze9usD1",
        "colab_type": "code",
        "colab": {
          "base_uri": "https://localhost:8080/",
          "height": 68
        },
        "outputId": "1565e9fc-0a80-4ca5-fa13-cbda1b420d94"
      },
      "source": [
        "#example of triple quotes\n",
        "print(\"\"\"Hello World.\n",
        "My name is Amanda and\n",
        "I am 24 years old.\"\"\")"
      ],
      "execution_count": null,
      "outputs": [
        {
          "output_type": "stream",
          "text": [
            "Hello World.\n",
            "My name is Amanda and\n",
            "I am 24 years old.\n"
          ],
          "name": "stdout"
        }
      ]
    },
    {
      "cell_type": "markdown",
      "metadata": {
        "id": "T8g4VpdVvDdX",
        "colab_type": "text"
      },
      "source": [
        "##Escape Characters\n",
        "Sometimes we need to print special \"unprintable\" characters, such as tab or newline. In this case, you need to use the \\(backslash) character to escape characters that would otherwise have a different meaning. \n",
        "\n",
        "*   \\n prints a new line\n",
        "*   \\t prints a tab\n",
        "*   \\\\ prints the backslash character itself\n",
        "*   \\\" prints a double quote, and doesn't end the string\n",
        "*   \\' prints a single quote, and doesn't end the string. \n",
        "\n",
        "\n",
        "\n",
        "\n"
      ]
    },
    {
      "cell_type": "code",
      "metadata": {
        "id": "r3e2wV8_v6SS",
        "colab_type": "code",
        "colab": {
          "base_uri": "https://localhost:8080/",
          "height": 119
        },
        "outputId": "5cbb4164-de17-4c78-b54a-38cccca90031"
      },
      "source": [
        "#example of \\n\n",
        "print('Hello\\nWorld')\n",
        "\n",
        "#example of \\t\n",
        "print('Hello\\tWorld')\n",
        "\n",
        "#example of \\\\\n",
        "print (\"\\\\\")\n",
        "\n",
        "#example of \\\"\n",
        "print(\"I am 5'9\\\" tall\")\n",
        "\n",
        "#example of \\'\n",
        "print('I am 5\\'9\" tall')"
      ],
      "execution_count": null,
      "outputs": [
        {
          "output_type": "stream",
          "text": [
            "Hello\n",
            "World\n",
            "Hello\tWorld\n",
            "\\\n",
            "I am 5'9\" tall\n",
            "I am 5'9\" tall\n"
          ],
          "name": "stdout"
        }
      ]
    },
    {
      "cell_type": "markdown",
      "metadata": {
        "id": "lO0MVnCH4Arh",
        "colab_type": "text"
      },
      "source": [
        "If you do not want characters preceded by \\ to be interpreted as special charactes you can add r before the first quote. "
      ]
    },
    {
      "cell_type": "code",
      "metadata": {
        "id": "m0JFYf-54Hwy",
        "colab_type": "code",
        "colab": {
          "base_uri": "https://localhost:8080/",
          "height": 51
        },
        "outputId": "6d550b3f-8a83-4b59-efaf-b543f726158e"
      },
      "source": [
        "#example of r vs no r\n",
        "print(r'Hellow\\tWorld')\n",
        "\n",
        "print ('Hello\\tWorld')"
      ],
      "execution_count": null,
      "outputs": [
        {
          "output_type": "stream",
          "text": [
            "Hellow\\tWorld\n",
            "Hello\tWorld\n"
          ],
          "name": "stdout"
        }
      ]
    },
    {
      "cell_type": "markdown",
      "metadata": {
        "id": "8B1J1dKT4ijC",
        "colab_type": "text"
      },
      "source": [
        "##Condition Statements\n",
        "All control flow tools involve evaluating a condition statement. The program will proceed differently depending on whether the condition is met. \n",
        "\n",
        "There are lots of different condition statements. Here are some common ones\n",
        "*   Comparison\n",
        "\n",
        "    \"x == y\" asks the program if x and y are equal\n",
        "\n",
        "    \"x != y\" asks the program if x and y are not equal\n",
        "\n",
        "    \"x < y\" asks the program if x is smaller than y\n",
        "\n",
        "    \"x > y\" asks the program if x is greater than y\n",
        "\n",
        "    \"x <= y\" asks the program if x is less than or equal to y\n",
        "\n",
        "    \"x >= y\" asks the program if x is greather than or equal to y\n",
        "\n",
        "You're able to add the operators \"and\", \"or\", and \"not\" to ask multiple conditions. \n",
        "\n",
        "The \"and\" operator will respond \"True\" if all conditions are met. \n",
        "\n",
        "The \"or\" operator will respond \"True\" if at least one condition is met. \n",
        "\n",
        "The \"not\" operator will respond True if the condition after the \"not\" is false. "
      ]
    },
    {
      "cell_type": "markdown",
      "metadata": {
        "id": "OqrzrPm28L2s",
        "colab_type": "text"
      },
      "source": [
        "##If Statements\n",
        "The \"if\" statement is one of the most commonly used to control programs. \n",
        "\n",
        "There is also \"elif\" which means \"else if\" and you can use that to control programs if the condition is not met. You can have as many elif statements as you like. \n",
        "\n",
        "Ex. \n",
        "if condidtion 1 is met: \n",
        "  \n",
        "  do A\n",
        "\n",
        "elif condition 2 is met: \n",
        "  \n",
        "  do B\n",
        "\n",
        "\n",
        "elif condition 3 is met: \n",
        "    \n",
        "  do C\n",
        "\n",
        "Indents after if/elif/else statements work as a block of code that will be executed if the condition is met. "
      ]
    },
    {
      "cell_type": "code",
      "metadata": {
        "id": "w2OnCw4P-UA8",
        "colab_type": "code",
        "colab": {
          "base_uri": "https://localhost:8080/",
          "height": 68
        },
        "outputId": "d65868f8-2fed-4ea0-c438-f8cb46dc32b9"
      },
      "source": [
        "#if/elif/else example\n",
        "user_input = input('Enter 1 or 2: ')\n",
        "if user_input == \"1\": \n",
        "    print(\"Hello World\")\n",
        "    print(\"How are you?\")\n",
        "elif user_input == \"2\":\n",
        "    print(\"Python Rocks!\")\n",
        "    print(\"I love Python\")\n",
        "else:\n",
        "    print (\"You did not enter a valid number\")"
      ],
      "execution_count": null,
      "outputs": [
        {
          "output_type": "stream",
          "text": [
            "Enter 1 or 2: 2\n",
            "Python Rocks!\n",
            "I love Python\n"
          ],
          "name": "stdout"
        }
      ]
    },
    {
      "cell_type": "markdown",
      "metadata": {
        "id": "QnrlYhex_rch",
        "colab_type": "text"
      },
      "source": [
        "##Inline If\n",
        "Inline if is a statement that is a simpler form of \"if\" statements. It's nice to use if your syntax is \"Do A if condition 1 is met, otherwise do B.\"\n",
        "\n"
      ]
    },
    {
      "cell_type": "code",
      "metadata": {
        "id": "MFgYaDV_ABBy",
        "colab_type": "code",
        "colab": {
          "base_uri": "https://localhost:8080/",
          "height": 34
        },
        "outputId": "b752319e-8e60-4746-933f-b540688979be"
      },
      "source": [
        "#example of inline if\n",
        "my_int = 11\n",
        "num1 = 12 if my_int == 10 else 13\n",
        "print(num1)"
      ],
      "execution_count": null,
      "outputs": [
        {
          "output_type": "stream",
          "text": [
            "13\n"
          ],
          "name": "stdout"
        }
      ]
    },
    {
      "cell_type": "markdown",
      "metadata": {
        "id": "lPVIfle5A68H",
        "colab_type": "text"
      },
      "source": [
        "##For Loop\n",
        "\"For loop\" executes a block of code repeatedly until the condition in the \"for\" statement is no longer valid. \n",
        "\n",
        "iterable: anything that can be looped over, such as a string, list, or tuple"
      ]
    },
    {
      "cell_type": "code",
      "metadata": {
        "id": "ppmjsMsHBRnm",
        "colab_type": "code",
        "colab": {
          "base_uri": "https://localhost:8080/",
          "height": 85
        },
        "outputId": "38cbd0c7-b848-49ac-d1bc-5c24fc2bdb9f"
      },
      "source": [
        "#example of for loops\n",
        "pets = ['cats', 'dogs', 'rabbits', 'hamsters']\n",
        "for myPets in pets:\n",
        "  print(myPets)"
      ],
      "execution_count": null,
      "outputs": [
        {
          "output_type": "stream",
          "text": [
            "cats\n",
            "dogs\n",
            "rabbits\n",
            "hamsters\n"
          ],
          "name": "stdout"
        }
      ]
    },
    {
      "cell_type": "markdown",
      "metadata": {
        "id": "Q_v5sCovB9vu",
        "colab_type": "text"
      },
      "source": [
        "What this is doing is going through the list and assigning each item to myPets until there are no more items. \n",
        "\n",
        "You can also display the index of the items by using the enumerate() function. "
      ]
    },
    {
      "cell_type": "code",
      "metadata": {
        "id": "JyBzHMO3CMAx",
        "colab_type": "code",
        "colab": {
          "base_uri": "https://localhost:8080/",
          "height": 85
        },
        "outputId": "6d0f0a41-b8c1-4038-f1ac-dd72789d13a3"
      },
      "source": [
        "#example of showing index in for loops using enumerate\n",
        "for index, myPets in enumerate(pets):\n",
        "    print(index, myPets)"
      ],
      "execution_count": null,
      "outputs": [
        {
          "output_type": "stream",
          "text": [
            "0 cats\n",
            "1 dogs\n",
            "2 rabbits\n",
            "3 hamsters\n"
          ],
          "name": "stdout"
        }
      ]
    },
    {
      "cell_type": "markdown",
      "metadata": {
        "id": "wkdjOosSCo1z",
        "colab_type": "text"
      },
      "source": [
        "You can also loop through a string. "
      ]
    },
    {
      "cell_type": "code",
      "metadata": {
        "id": "9OxMYQKCCrVC",
        "colab_type": "code",
        "colab": {
          "base_uri": "https://localhost:8080/",
          "height": 102
        },
        "outputId": "5090d1ff-e48c-428b-c80d-7e07fb853074"
      },
      "source": [
        "message= 'Hello'\n",
        "for i in message:\n",
        "  print(i)"
      ],
      "execution_count": null,
      "outputs": [
        {
          "output_type": "stream",
          "text": [
            "H\n",
            "e\n",
            "l\n",
            "l\n",
            "o\n"
          ],
          "name": "stdout"
        }
      ]
    },
    {
      "cell_type": "markdown",
      "metadata": {
        "id": "HCMa9QeEC0hf",
        "colab_type": "text"
      },
      "source": [
        "You're also able to loop through a sequence of numbers using \"range(start, end, step)\". \n",
        "\n",
        "If you don't enter a start, the numbers will start from position 0. \n",
        "\n",
        "If you don't enter a step, the step will be 1. \n",
        "\n",
        "The end value must be provided. "
      ]
    },
    {
      "cell_type": "code",
      "metadata": {
        "id": "ZRKT4k9FDQxB",
        "colab_type": "code",
        "colab": {
          "base_uri": "https://localhost:8080/",
          "height": 102
        },
        "outputId": "27616f70-2519-4546-9d09-45d8b4bcfdeb"
      },
      "source": [
        "#example of range function\n",
        "for i in range(5):\n",
        "  print(i)"
      ],
      "execution_count": null,
      "outputs": [
        {
          "output_type": "stream",
          "text": [
            "0\n",
            "1\n",
            "2\n",
            "3\n",
            "4\n"
          ],
          "name": "stdout"
        }
      ]
    },
    {
      "cell_type": "markdown",
      "metadata": {
        "id": "lOI8uB_kDzLK",
        "colab_type": "text"
      },
      "source": [
        "##While Loop\n",
        "While loops continuously execute the instructions inside the loop while a certain defined condition remains valid. \n",
        "\n",
        "Ex. while condition is true:\n",
        "\n",
        "  do A\n",
        "\n",
        "Most of the time when using while loops you need to declare a variable to function as the loop counter. The condition in the while statement will evaluate the value of counter to determine if it is smaller (or greater) than a certain value. If it is, the loop will be executed.\n"
      ]
    },
    {
      "cell_type": "code",
      "metadata": {
        "id": "S0HypCFLEj6B",
        "colab_type": "code",
        "colab": {
          "base_uri": "https://localhost:8080/",
          "height": 102
        },
        "outputId": "2e8507ea-031a-41fb-db45-dd54bcb63582"
      },
      "source": [
        "#while loop example\n",
        "counter = 5\n",
        "while counter > 0:\n",
        "  print(\"Counter = \", counter)\n",
        "  counter = counter-1"
      ],
      "execution_count": null,
      "outputs": [
        {
          "output_type": "stream",
          "text": [
            "Counter =  5\n",
            "Counter =  4\n",
            "Counter =  3\n",
            "Counter =  2\n",
            "Counter =  1\n"
          ],
          "name": "stdout"
        }
      ]
    },
    {
      "cell_type": "markdown",
      "metadata": {
        "id": "u_2yv5gQFDmC",
        "colab_type": "text"
      },
      "source": [
        "In this code the last line \"counter = counter-1\" is crucial. This makes it so that the condition \"while counter > 0\" is eventually false and the counter stops. Otherwise you create an infinite loop and the program will crash. "
      ]
    },
    {
      "cell_type": "markdown",
      "metadata": {
        "id": "pRXhIYtHFWtZ",
        "colab_type": "text"
      },
      "source": [
        "##Break\n",
        "When working with loops, you may want to exit the entire loop when a certain condition is met. To do that we use \"break\""
      ]
    },
    {
      "cell_type": "code",
      "metadata": {
        "id": "QOv9_oSAFeX0",
        "colab_type": "code",
        "colab": {
          "base_uri": "https://localhost:8080/",
          "height": 68
        },
        "outputId": "db1ef659-d49a-456a-bf4c-862b9e35b0f6"
      },
      "source": [
        "#break example\n",
        "j = 0\n",
        "for i in range(5):\n",
        "  j = j + 2\n",
        "  print('i= ', i, 'j =', j)\n",
        "  if j == 6:\n",
        "    break"
      ],
      "execution_count": null,
      "outputs": [
        {
          "output_type": "stream",
          "text": [
            "i=  0 j = 2\n",
            "i=  1 j = 4\n",
            "i=  2 j = 6\n"
          ],
          "name": "stdout"
        }
      ]
    },
    {
      "cell_type": "markdown",
      "metadata": {
        "id": "DMO7MCYOF_3I",
        "colab_type": "text"
      },
      "source": [
        "Without the break, the program would loop from i = 0 to i = 4 because we used the function range(5). \n",
        "\n",
        "However with the break, the program ends prematurely at i = 2 because when i = 2, j = 6. \n",
        "\n",
        "In this example we did something called a \"nested control statement\". This is when you use a while loop inside an if statement or use a for loop inside a while loop. "
      ]
    },
    {
      "cell_type": "markdown",
      "metadata": {
        "id": "vy7EaDQLWKtt",
        "colab_type": "text"
      },
      "source": [
        "##Continue\n",
        "Another useful keyword for loops is \"continue\". When we use continue, the rest of the loop after the keyword is skipped for that iteration. "
      ]
    },
    {
      "cell_type": "code",
      "metadata": {
        "id": "qYK0-G23WV8v",
        "colab_type": "code",
        "colab": {
          "base_uri": "https://localhost:8080/",
          "height": 255
        },
        "outputId": "70fe835e-2cab-4270-a305-21cd2eacfeb5"
      },
      "source": [
        "j = 0\n",
        "for i in range(5):\n",
        "  j = j + 2\n",
        "  print('\\ni = ', i, ', j = ', j)\n",
        "  if j == 6:\n",
        "    continue\n",
        "  print('I will be skipped over if j=6')"
      ],
      "execution_count": null,
      "outputs": [
        {
          "output_type": "stream",
          "text": [
            "\n",
            "i =  0 , j =  2\n",
            "I will be skipped over if j=6\n",
            "\n",
            "i =  1 , j =  4\n",
            "I will be skipped over if j=6\n",
            "\n",
            "i =  2 , j =  6\n",
            "\n",
            "i =  3 , j =  8\n",
            "I will be skipped over if j=6\n",
            "\n",
            "i =  4 , j =  10\n",
            "I will be skipped over if j=6\n"
          ],
          "name": "stdout"
        }
      ]
    },
    {
      "cell_type": "markdown",
      "metadata": {
        "id": "Ptl1pO9EW1j5",
        "colab_type": "text"
      },
      "source": [
        "#Python as a Calculator\n",
        "\n"
      ]
    },
    {
      "cell_type": "code",
      "metadata": {
        "id": "vzRNIOzgXHZr",
        "colab_type": "code",
        "colab": {}
      },
      "source": [
        "#This is a comment."
      ],
      "execution_count": null,
      "outputs": []
    },
    {
      "cell_type": "code",
      "metadata": {
        "id": "lPBzQZ91XLpM",
        "colab_type": "code",
        "colab": {
          "base_uri": "https://localhost:8080/",
          "height": 34
        },
        "outputId": "84b30749-9917-417e-ef3b-3a1f85d96534"
      },
      "source": [
        "#simple arithmetic\n",
        "2 + 3 - 36 / 2 - 5"
      ],
      "execution_count": null,
      "outputs": [
        {
          "output_type": "execute_result",
          "data": {
            "text/plain": [
              "-18.0"
            ]
          },
          "metadata": {
            "tags": []
          },
          "execution_count": 92
        }
      ]
    },
    {
      "cell_type": "code",
      "metadata": {
        "id": "ZqvBAwbgXS_p",
        "colab_type": "code",
        "colab": {
          "base_uri": "https://localhost:8080/",
          "height": 34
        },
        "outputId": "8a7706b1-b46d-4325-cd93-847735afdc94"
      },
      "source": [
        "#exponentiation\n",
        "2**5"
      ],
      "execution_count": null,
      "outputs": [
        {
          "output_type": "execute_result",
          "data": {
            "text/plain": [
              "32"
            ]
          },
          "metadata": {
            "tags": []
          },
          "execution_count": 93
        }
      ]
    },
    {
      "cell_type": "code",
      "metadata": {
        "id": "PwbpdykFXXEA",
        "colab_type": "code",
        "colab": {
          "base_uri": "https://localhost:8080/",
          "height": 34
        },
        "outputId": "c6492d64-699b-47a9-e2bc-0313364d86e7"
      },
      "source": [
        "#fractional powers\n",
        "2**0.5"
      ],
      "execution_count": null,
      "outputs": [
        {
          "output_type": "execute_result",
          "data": {
            "text/plain": [
              "1.4142135623730951"
            ]
          },
          "metadata": {
            "tags": []
          },
          "execution_count": 94
        }
      ]
    },
    {
      "cell_type": "code",
      "metadata": {
        "id": "Ne8Hq1G6XboH",
        "colab_type": "code",
        "colab": {}
      },
      "source": [
        "#assign a variable\n",
        "x = 3"
      ],
      "execution_count": null,
      "outputs": []
    },
    {
      "cell_type": "code",
      "metadata": {
        "id": "kFMwTJqiXf1G",
        "colab_type": "code",
        "colab": {
          "base_uri": "https://localhost:8080/",
          "height": 34
        },
        "outputId": "8a7394ef-7733-45e6-b14a-760602c5c3ba"
      },
      "source": [
        "#work with that variable\n",
        "x**2 + 1"
      ],
      "execution_count": null,
      "outputs": [
        {
          "output_type": "execute_result",
          "data": {
            "text/plain": [
              "10"
            ]
          },
          "metadata": {
            "tags": []
          },
          "execution_count": 96
        }
      ]
    },
    {
      "cell_type": "code",
      "metadata": {
        "id": "PPIY8V1jXkdO",
        "colab_type": "code",
        "colab": {
          "base_uri": "https://localhost:8080/",
          "height": 34
        },
        "outputId": "a3fdd23e-77b7-42dd-c3fc-f2d5b2b8f1bd"
      },
      "source": [
        "#x is type (class) integer\n",
        "type(x)"
      ],
      "execution_count": null,
      "outputs": [
        {
          "output_type": "execute_result",
          "data": {
            "text/plain": [
              "int"
            ]
          },
          "metadata": {
            "tags": []
          },
          "execution_count": 97
        }
      ]
    },
    {
      "cell_type": "code",
      "metadata": {
        "id": "13a1eTHlXrqB",
        "colab_type": "code",
        "colab": {}
      },
      "source": [
        "#assign x1 and x2\n",
        "x1 = 4.2; x2 = 2.675"
      ],
      "execution_count": null,
      "outputs": []
    },
    {
      "cell_type": "code",
      "metadata": {
        "id": "6IgOzAW2X1-I",
        "colab_type": "code",
        "colab": {
          "base_uri": "https://localhost:8080/",
          "height": 34
        },
        "outputId": "38562570-7031-4ff6-ffd5-e9d3cd000010"
      },
      "source": [
        "#x1 is a float\n",
        "type(x1)"
      ],
      "execution_count": null,
      "outputs": [
        {
          "output_type": "execute_result",
          "data": {
            "text/plain": [
              "float"
            ]
          },
          "metadata": {
            "tags": []
          },
          "execution_count": 99
        }
      ]
    },
    {
      "cell_type": "code",
      "metadata": {
        "id": "FGEB2-4CX5Sy",
        "colab_type": "code",
        "colab": {
          "base_uri": "https://localhost:8080/",
          "height": 34
        },
        "outputId": "c7949763-85c8-4427-a977-f3a49aba439d"
      },
      "source": [
        "#truncates to integer\n",
        "int(x1)"
      ],
      "execution_count": null,
      "outputs": [
        {
          "output_type": "execute_result",
          "data": {
            "text/plain": [
              "4"
            ]
          },
          "metadata": {
            "tags": []
          },
          "execution_count": 100
        }
      ]
    },
    {
      "cell_type": "code",
      "metadata": {
        "id": "L9lrrondX98g",
        "colab_type": "code",
        "colab": {
          "base_uri": "https://localhost:8080/",
          "height": 34
        },
        "outputId": "08207227-a72e-47f2-f5c5-f3385df909d9"
      },
      "source": [
        "#floor division\n",
        "-7//3"
      ],
      "execution_count": null,
      "outputs": [
        {
          "output_type": "execute_result",
          "data": {
            "text/plain": [
              "-3"
            ]
          },
          "metadata": {
            "tags": []
          },
          "execution_count": 101
        }
      ]
    },
    {
      "cell_type": "code",
      "metadata": {
        "id": "UxBCcGS0YCey",
        "colab_type": "code",
        "colab": {
          "base_uri": "https://localhost:8080/",
          "height": 34
        },
        "outputId": "5b3c3883-45c1-4d29-bbb1-6a8f87c997b2"
      },
      "source": [
        "#floating point arithmetic\n",
        "round(x2, 2)"
      ],
      "execution_count": null,
      "outputs": [
        {
          "output_type": "execute_result",
          "data": {
            "text/plain": [
              "2.67"
            ]
          },
          "metadata": {
            "tags": []
          },
          "execution_count": 102
        }
      ]
    },
    {
      "cell_type": "code",
      "metadata": {
        "id": "r4Y1cWWJYO3V",
        "colab_type": "code",
        "colab": {}
      },
      "source": [
        "#assign z1 and z2\n",
        "z1 = 2 + 3j; z2 = 3 - 1j"
      ],
      "execution_count": null,
      "outputs": []
    },
    {
      "cell_type": "code",
      "metadata": {
        "id": "pFwq9n0tYYhp",
        "colab_type": "code",
        "colab": {
          "base_uri": "https://localhost:8080/",
          "height": 34
        },
        "outputId": "dcbd1c1b-be9c-454d-83d3-afab9f461284"
      },
      "source": [
        "#z1 is a class complex\n",
        "type(z1)"
      ],
      "execution_count": null,
      "outputs": [
        {
          "output_type": "execute_result",
          "data": {
            "text/plain": [
              "complex"
            ]
          },
          "metadata": {
            "tags": []
          },
          "execution_count": 105
        }
      ]
    },
    {
      "cell_type": "code",
      "metadata": {
        "id": "wu9ylWXjYddc",
        "colab_type": "code",
        "colab": {
          "base_uri": "https://localhost:8080/",
          "height": 34
        },
        "outputId": "953dc0e4-1eed-4d3e-ee71-9a125e51ad87"
      },
      "source": [
        "#complex arithmetic\n",
        "z1**2 - 2 * z2"
      ],
      "execution_count": null,
      "outputs": [
        {
          "output_type": "execute_result",
          "data": {
            "text/plain": [
              "(-11+14j)"
            ]
          },
          "metadata": {
            "tags": []
          },
          "execution_count": 106
        }
      ]
    },
    {
      "cell_type": "code",
      "metadata": {
        "id": "J23AOSxpYj53",
        "colab_type": "code",
        "colab": {
          "base_uri": "https://localhost:8080/",
          "height": 34
        },
        "outputId": "b5ea808a-875c-4645-ad63-dc159a2195f3"
      },
      "source": [
        "#the modulus\n",
        "abs(z1)"
      ],
      "execution_count": null,
      "outputs": [
        {
          "output_type": "execute_result",
          "data": {
            "text/plain": [
              "3.605551275463989"
            ]
          },
          "metadata": {
            "tags": []
          },
          "execution_count": 107
        }
      ]
    },
    {
      "cell_type": "code",
      "metadata": {
        "id": "neuHih-VYoBe",
        "colab_type": "code",
        "colab": {
          "base_uri": "https://localhost:8080/",
          "height": 34
        },
        "outputId": "fb4c8689-c724-461d-e4a0-54c4980fd76c"
      },
      "source": [
        "#the real part of z1\n",
        "z1.real"
      ],
      "execution_count": null,
      "outputs": [
        {
          "output_type": "execute_result",
          "data": {
            "text/plain": [
              "2.0"
            ]
          },
          "metadata": {
            "tags": []
          },
          "execution_count": 108
        }
      ]
    },
    {
      "cell_type": "code",
      "metadata": {
        "id": "ctkyRxzZYs79",
        "colab_type": "code",
        "colab": {
          "base_uri": "https://localhost:8080/",
          "height": 34
        },
        "outputId": "a905ee58-6337-40aa-c21f-4f4eb09dd374"
      },
      "source": [
        "#imaginary part of z1\n",
        "z1.imag"
      ],
      "execution_count": null,
      "outputs": [
        {
          "output_type": "execute_result",
          "data": {
            "text/plain": [
              "3.0"
            ]
          },
          "metadata": {
            "tags": []
          },
          "execution_count": 109
        }
      ]
    },
    {
      "cell_type": "code",
      "metadata": {
        "id": "ihbOPklzYwdE",
        "colab_type": "code",
        "colab": {}
      },
      "source": [
        "#a list of integers\n",
        "a = [1, 2, 3, 4, 5]"
      ],
      "execution_count": null,
      "outputs": []
    },
    {
      "cell_type": "code",
      "metadata": {
        "id": "RcCn0gS-Y6Xq",
        "colab_type": "code",
        "colab": {
          "base_uri": "https://localhost:8080/",
          "height": 34
        },
        "outputId": "67614248-1c0b-4d1f-c043-a2a67d5c7f17"
      },
      "source": [
        "#determine a is a list\n",
        "type(a)"
      ],
      "execution_count": null,
      "outputs": [
        {
          "output_type": "execute_result",
          "data": {
            "text/plain": [
              "list"
            ]
          },
          "metadata": {
            "tags": []
          },
          "execution_count": 111
        }
      ]
    },
    {
      "cell_type": "code",
      "metadata": {
        "id": "3m4qtNHlY9fR",
        "colab_type": "code",
        "colab": {
          "base_uri": "https://localhost:8080/",
          "height": 34
        },
        "outputId": "9fa2b3ae-15ea-4ef7-a1cf-c9320c944461"
      },
      "source": [
        "#1st element, 0 based indexing\n",
        "a[0]"
      ],
      "execution_count": null,
      "outputs": [
        {
          "output_type": "execute_result",
          "data": {
            "text/plain": [
              "1"
            ]
          },
          "metadata": {
            "tags": []
          },
          "execution_count": 112
        }
      ]
    },
    {
      "cell_type": "code",
      "metadata": {
        "id": "otJ_MAAsZDPQ",
        "colab_type": "code",
        "colab": {
          "base_uri": "https://localhost:8080/",
          "height": 34
        },
        "outputId": "9015575d-115a-4d06-b9a0-187052ca34d2"
      },
      "source": [
        "#the last element\n",
        "a[-1]"
      ],
      "execution_count": null,
      "outputs": [
        {
          "output_type": "execute_result",
          "data": {
            "text/plain": [
              "5"
            ]
          },
          "metadata": {
            "tags": []
          },
          "execution_count": 113
        }
      ]
    },
    {
      "cell_type": "code",
      "metadata": {
        "id": "CKu8UbtvZGzJ",
        "colab_type": "code",
        "colab": {
          "base_uri": "https://localhost:8080/",
          "height": 34
        },
        "outputId": "3bd8aeff-46f3-4c53-a461-587bdad6c90e"
      },
      "source": [
        "#the number of elements\n",
        "len(a)"
      ],
      "execution_count": null,
      "outputs": [
        {
          "output_type": "execute_result",
          "data": {
            "text/plain": [
              "5"
            ]
          },
          "metadata": {
            "tags": []
          },
          "execution_count": 114
        }
      ]
    },
    {
      "cell_type": "code",
      "metadata": {
        "id": "Q_5nVoMdZKkP",
        "colab_type": "code",
        "colab": {
          "base_uri": "https://localhost:8080/",
          "height": 34
        },
        "outputId": "31e755a4-132a-4532-f57f-fc3da6a2e3db"
      },
      "source": [
        "#the smallest element\n",
        "min(a)"
      ],
      "execution_count": null,
      "outputs": [
        {
          "output_type": "execute_result",
          "data": {
            "text/plain": [
              "1"
            ]
          },
          "metadata": {
            "tags": []
          },
          "execution_count": 115
        }
      ]
    },
    {
      "cell_type": "code",
      "metadata": {
        "id": "gTdpa2V2ZNl-",
        "colab_type": "code",
        "colab": {
          "base_uri": "https://localhost:8080/",
          "height": 34
        },
        "outputId": "0d485f23-7e5b-470a-bc2d-2ef85a85a4a4"
      },
      "source": [
        "#the largest element\n",
        "max(a)"
      ],
      "execution_count": null,
      "outputs": [
        {
          "output_type": "execute_result",
          "data": {
            "text/plain": [
              "5"
            ]
          },
          "metadata": {
            "tags": []
          },
          "execution_count": 116
        }
      ]
    },
    {
      "cell_type": "code",
      "metadata": {
        "id": "X0_bRfZdZQcd",
        "colab_type": "code",
        "colab": {
          "base_uri": "https://localhost:8080/",
          "height": 34
        },
        "outputId": "e44ed7e0-4ef7-4180-b946-2220fc1d6712"
      },
      "source": [
        "#True, 5 is in the list a. \n",
        "5 in a"
      ],
      "execution_count": null,
      "outputs": [
        {
          "output_type": "execute_result",
          "data": {
            "text/plain": [
              "True"
            ]
          },
          "metadata": {
            "tags": []
          },
          "execution_count": 118
        }
      ]
    },
    {
      "cell_type": "code",
      "metadata": {
        "id": "6P6S9SvAZXC0",
        "colab_type": "code",
        "colab": {
          "base_uri": "https://localhost:8080/",
          "height": 34
        },
        "outputId": "2424d086-6414-48fe-8bd1-47749bfb16c5"
      },
      "source": [
        "#[1, 2, 3, 4, 5, 1, 2, 3, 4, 5]\n",
        "2*a"
      ],
      "execution_count": null,
      "outputs": [
        {
          "output_type": "execute_result",
          "data": {
            "text/plain": [
              "[1, 2, 3, 4, 5, 1, 2, 3, 4, 5]"
            ]
          },
          "metadata": {
            "tags": []
          },
          "execution_count": 119
        }
      ]
    },
    {
      "cell_type": "code",
      "metadata": {
        "id": "A-chc4MkZc-7",
        "colab_type": "code",
        "colab": {}
      },
      "source": [
        "#Now a= [1, 2, 3, 4, 5 ,6]\n",
        "a.append(6)"
      ],
      "execution_count": null,
      "outputs": []
    },
    {
      "cell_type": "code",
      "metadata": {
        "id": "tN9fjCAaZjrJ",
        "colab_type": "code",
        "colab": {}
      },
      "source": [
        "#Remove the first 6 found\n",
        "a.remove(6)"
      ],
      "execution_count": null,
      "outputs": []
    },
    {
      "cell_type": "code",
      "metadata": {
        "id": "aCSaTZ5RZo5C",
        "colab_type": "code",
        "colab": {
          "base_uri": "https://localhost:8080/",
          "height": 34
        },
        "outputId": "f97f46ac-1f7a-4030-c274-0304598d799b"
      },
      "source": [
        "#prints the list a\n",
        "print(a)"
      ],
      "execution_count": null,
      "outputs": [
        {
          "output_type": "stream",
          "text": [
            "[1, 2, 3, 4, 5]\n"
          ],
          "name": "stdout"
        }
      ]
    },
    {
      "cell_type": "code",
      "metadata": {
        "id": "j5iXO_KDZs6v",
        "colab_type": "code",
        "colab": {
          "base_uri": "https://localhost:8080/",
          "height": 34
        },
        "outputId": "1f65ccfc-e968-4d6f-8ced-ff84a14168f8"
      },
      "source": [
        "#slice to get the list [2, 3]\n",
        "a[1:3]"
      ],
      "execution_count": null,
      "outputs": [
        {
          "output_type": "execute_result",
          "data": {
            "text/plain": [
              "[2, 3]"
            ]
          },
          "metadata": {
            "tags": []
          },
          "execution_count": 126
        }
      ]
    },
    {
      "cell_type": "code",
      "metadata": {
        "id": "QC9I6_r2Z07e",
        "colab_type": "code",
        "colab": {
          "base_uri": "https://localhost:8080/",
          "height": 34
        },
        "outputId": "b7147f54-d808-47d8-fe8f-611eaaf15c6f"
      },
      "source": [
        "#a range object zero to nine\n",
        "range(10)"
      ],
      "execution_count": null,
      "outputs": [
        {
          "output_type": "execute_result",
          "data": {
            "text/plain": [
              "range(0, 10)"
            ]
          },
          "metadata": {
            "tags": []
          },
          "execution_count": 127
        }
      ]
    },
    {
      "cell_type": "code",
      "metadata": {
        "id": "cnOBOOenZ7Xz",
        "colab_type": "code",
        "colab": {
          "base_uri": "https://localhost:8080/",
          "height": 34
        },
        "outputId": "3dfaa00b-1e92-41ed-f704-85ac9b96ec41"
      },
      "source": [
        "#A list [0, 1, 2, 3, 4]\n",
        "list(range(5))"
      ],
      "execution_count": null,
      "outputs": [
        {
          "output_type": "execute_result",
          "data": {
            "text/plain": [
              "[0, 1, 2, 3, 4]"
            ]
          },
          "metadata": {
            "tags": []
          },
          "execution_count": 128
        }
      ]
    },
    {
      "cell_type": "code",
      "metadata": {
        "id": "r_7hr_Q_juoF",
        "colab_type": "code",
        "colab": {
          "base_uri": "https://localhost:8080/",
          "height": 34
        },
        "outputId": "4ed30152-227e-4421-ac6b-e101cea6a84f"
      },
      "source": [
        "#a list [4, 5, 6, 7, 8]\n",
        "list(range(4, 9))"
      ],
      "execution_count": null,
      "outputs": [
        {
          "output_type": "execute_result",
          "data": {
            "text/plain": [
              "[4, 5, 6, 7, 8]"
            ]
          },
          "metadata": {
            "tags": []
          },
          "execution_count": 129
        }
      ]
    },
    {
      "cell_type": "code",
      "metadata": {
        "id": "7OH-aiANj2wh",
        "colab_type": "code",
        "colab": {
          "base_uri": "https://localhost:8080/",
          "height": 34
        },
        "outputId": "e9e4a7a7-94db-4b08-842b-523d722b6f83"
      },
      "source": [
        "#a list [2, 4, 6, 8]\n",
        "list(range(2, 10, 2))"
      ],
      "execution_count": null,
      "outputs": [
        {
          "output_type": "execute_result",
          "data": {
            "text/plain": [
              "[2, 4, 6, 8]"
            ]
          },
          "metadata": {
            "tags": []
          },
          "execution_count": 130
        }
      ]
    },
    {
      "cell_type": "code",
      "metadata": {
        "id": "4_9Y-sHXj9GC",
        "colab_type": "code",
        "colab": {
          "base_uri": "https://localhost:8080/",
          "height": 34
        },
        "outputId": "33c5e5d2-b32e-4b6e-f9b2-9faded87219b"
      },
      "source": [
        "#a list [10, 8, 6]\n",
        "list(range(10, 5, -2))"
      ],
      "execution_count": null,
      "outputs": [
        {
          "output_type": "execute_result",
          "data": {
            "text/plain": [
              "[10, 8, 6]"
            ]
          },
          "metadata": {
            "tags": []
          },
          "execution_count": 131
        }
      ]
    },
    {
      "cell_type": "code",
      "metadata": {
        "id": "90YotfC0kDx-",
        "colab_type": "code",
        "colab": {}
      },
      "source": [
        "#a list of lists\n",
        "a = [[1,2], [3, 4]]"
      ],
      "execution_count": null,
      "outputs": []
    },
    {
      "cell_type": "code",
      "metadata": {
        "id": "HlkwPHiokLjl",
        "colab_type": "code",
        "colab": {
          "base_uri": "https://localhost:8080/",
          "height": 34
        },
        "outputId": "ab90197c-59fd-4136-9e08-7ce87a2dd99c"
      },
      "source": [
        "#the first list [1, 2]\n",
        "a[0]"
      ],
      "execution_count": null,
      "outputs": [
        {
          "output_type": "execute_result",
          "data": {
            "text/plain": [
              "[1, 2]"
            ]
          },
          "metadata": {
            "tags": []
          },
          "execution_count": 133
        }
      ]
    },
    {
      "cell_type": "code",
      "metadata": {
        "id": "REQDYNMekRAE",
        "colab_type": "code",
        "colab": {
          "base_uri": "https://localhost:8080/",
          "height": 34
        },
        "outputId": "33ee5a27-6e31-4a4d-aa14-36a0aac0f4fe"
      },
      "source": [
        "#the second element in list 1\n",
        "a[0][1]"
      ],
      "execution_count": null,
      "outputs": [
        {
          "output_type": "execute_result",
          "data": {
            "text/plain": [
              "2"
            ]
          },
          "metadata": {
            "tags": []
          },
          "execution_count": 134
        }
      ]
    },
    {
      "cell_type": "code",
      "metadata": {
        "id": "FR0L89GCkWr9",
        "colab_type": "code",
        "colab": {}
      },
      "source": [
        "#import all under name space math\n",
        "import math #"
      ],
      "execution_count": null,
      "outputs": []
    },
    {
      "cell_type": "code",
      "metadata": {
        "id": "gw8RRIH9kbTp",
        "colab_type": "code",
        "colab": {}
      },
      "source": [
        "#import sine command only\n",
        "from math import sin"
      ],
      "execution_count": null,
      "outputs": []
    },
    {
      "cell_type": "code",
      "metadata": {
        "id": "12xZSQrWkgxf",
        "colab_type": "code",
        "colab": {}
      },
      "source": [
        "#import all math commands\n",
        "from math import *"
      ],
      "execution_count": null,
      "outputs": []
    },
    {
      "cell_type": "code",
      "metadata": {
        "id": "JZQa8F3Xkk1w",
        "colab_type": "code",
        "colab": {
          "base_uri": "https://localhost:8080/",
          "height": 34
        },
        "outputId": "aa1f921e-5146-457f-f00b-fa12785cfd25"
      },
      "source": [
        "#sin function\n",
        "sin(pi)"
      ],
      "execution_count": null,
      "outputs": [
        {
          "output_type": "execute_result",
          "data": {
            "text/plain": [
              "1.2246467991473532e-16"
            ]
          },
          "metadata": {
            "tags": []
          },
          "execution_count": 138
        }
      ]
    },
    {
      "cell_type": "code",
      "metadata": {
        "id": "hlLxkzW3koE5",
        "colab_type": "code",
        "colab": {
          "base_uri": "https://localhost:8080/",
          "height": 34
        },
        "outputId": "c9ff6859-75c8-44b7-e14d-4f1d05006a3c"
      },
      "source": [
        "#inverse cosine\n",
        "acos(0)"
      ],
      "execution_count": null,
      "outputs": [
        {
          "output_type": "execute_result",
          "data": {
            "text/plain": [
              "1.5707963267948966"
            ]
          },
          "metadata": {
            "tags": []
          },
          "execution_count": 139
        }
      ]
    },
    {
      "cell_type": "code",
      "metadata": {
        "id": "8xl3m3I3krsO",
        "colab_type": "code",
        "colab": {
          "base_uri": "https://localhost:8080/",
          "height": 34
        },
        "outputId": "d2f04da6-36cd-452e-c275-822c1cec08ca"
      },
      "source": [
        "#exponential function\n",
        "exp(0.3)"
      ],
      "execution_count": null,
      "outputs": [
        {
          "output_type": "execute_result",
          "data": {
            "text/plain": [
              "1.3498588075760032"
            ]
          },
          "metadata": {
            "tags": []
          },
          "execution_count": 140
        }
      ]
    },
    {
      "cell_type": "code",
      "metadata": {
        "id": "CyyRAhXOkwTt",
        "colab_type": "code",
        "colab": {
          "base_uri": "https://localhost:8080/",
          "height": 34
        },
        "outputId": "0bad6930-5f17-4424-e7cb-4f1914224f4b"
      },
      "source": [
        "#log base 10\n",
        "log10(0.3)"
      ],
      "execution_count": null,
      "outputs": [
        {
          "output_type": "execute_result",
          "data": {
            "text/plain": [
              "-0.5228787452803376"
            ]
          },
          "metadata": {
            "tags": []
          },
          "execution_count": 141
        }
      ]
    },
    {
      "cell_type": "code",
      "metadata": {
        "id": "YCNJ94tIkz9F",
        "colab_type": "code",
        "colab": {
          "base_uri": "https://localhost:8080/",
          "height": 34
        },
        "outputId": "f6cd75d5-a87f-4d64-fdfa-16bbd838f20e"
      },
      "source": [
        "#return floor as integer\n",
        "floor(2.35)"
      ],
      "execution_count": null,
      "outputs": [
        {
          "output_type": "execute_result",
          "data": {
            "text/plain": [
              "2"
            ]
          },
          "metadata": {
            "tags": []
          },
          "execution_count": 142
        }
      ]
    }
  ]
}